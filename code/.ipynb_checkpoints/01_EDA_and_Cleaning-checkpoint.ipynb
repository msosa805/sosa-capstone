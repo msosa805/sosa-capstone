{
 "cells": [
  {
   "cell_type": "markdown",
   "metadata": {},
   "source": [
    "<img src=\"https://i.imgur.com/Yy47HAq.png\" style=\"float: left; margin: 20px; height: 290px\">\n",
    "\n",
    "# EDA and Cleaning \n",
    "\n",
    "---\n",
    "Capstone - Predicting mortality outcomes of COVID-19 cases\n",
    "\n",
    "**Author**: Miriam Sosa\n",
    "\n",
    "1. CDC [COVID 19_Case_Surveillance_Public_Use_Data_with_Geography.csv](https://data.cdc.gov/Case-Surveillance/COVID-19-Case-Surveillance-Public-Use-Data-with-Ge/n8mc-b4w4) \n",
    "2. [Data Cleaning](#Data-Cleaning)\n",
    "    - [Recode NAs](#Recode-NAs) \n",
    "    - [Explore 'Case Intervals'](#Explore-'Case-Intervals') \n",
    "    - [Recode](#Recode) \n",
    "    - [Additional Cleaning](#Additional-Cleaning)\n",
    "5. [EDA](#EDA)"
   ]
  },
  {
   "cell_type": "code",
   "execution_count": 1,
   "metadata": {},
   "outputs": [],
   "source": [
    "import matplotlib.pyplot as plt\n",
    "import missingno as msno\n",
    "import numpy as np\n",
    "import pandas as pd\n",
    "import seaborn as sns\n",
    "\n",
    "from sklearn.impute import SimpleImputer"
   ]
  },
  {
   "cell_type": "code",
   "execution_count": 2,
   "metadata": {},
   "outputs": [],
   "source": [
    "#df = pd.read_csv('../data/COVID-19_Case_Surveillance_Public_Use_Data_with_Geography.csv', keep_default_na=False, na_values=['']).sample(n=100_000, random_state=42)"
   ]
  },
  {
   "cell_type": "code",
   "execution_count": 3,
   "metadata": {},
   "outputs": [],
   "source": [
    "# df.to_csv('../data/subset.csv', index = False)"
   ]
  },
  {
   "cell_type": "code",
   "execution_count": 4,
   "metadata": {},
   "outputs": [],
   "source": [
    "df = pd.read_csv('../data/subset.csv')"
   ]
  },
  {
   "cell_type": "code",
   "execution_count": 5,
   "metadata": {},
   "outputs": [
    {
     "name": "stdout",
     "output_type": "stream",
     "text": [
      "<class 'pandas.core.frame.DataFrame'>\n",
      "RangeIndex: 100000 entries, 0 to 99999\n",
      "Data columns (total 19 columns):\n",
      " #   Column                           Non-Null Count   Dtype  \n",
      "---  ------                           --------------   -----  \n",
      " 0   case_month                       100000 non-null  object \n",
      " 1   res_state                        100000 non-null  object \n",
      " 2   state_fips_code                  100000 non-null  int64  \n",
      " 3   res_county                       93179 non-null   object \n",
      " 4   county_fips_code                 93179 non-null   float64\n",
      " 5   age_group                        98861 non-null   object \n",
      " 6   sex                              96977 non-null   object \n",
      " 7   race                             82919 non-null   object \n",
      " 8   ethnicity                        79538 non-null   object \n",
      " 9   case_positive_specimen_interval  27274 non-null   float64\n",
      " 10  case_onset_interval              46087 non-null   float64\n",
      " 11  process                          100000 non-null  object \n",
      " 12  exposure_yn                      100000 non-null  object \n",
      " 13  current_status                   100000 non-null  object \n",
      " 14  symptom_status                   100000 non-null  object \n",
      " 15  hosp_yn                          100000 non-null  object \n",
      " 16  icu_yn                           100000 non-null  object \n",
      " 17  death_yn                         95018 non-null   object \n",
      " 18  underlying_conditions_yn         6678 non-null    object \n",
      "dtypes: float64(3), int64(1), object(15)\n",
      "memory usage: 14.5+ MB\n"
     ]
    }
   ],
   "source": [
    "df.info()"
   ]
  },
  {
   "cell_type": "code",
   "execution_count": 6,
   "metadata": {},
   "outputs": [
    {
     "data": {
      "text/plain": [
       "(100000, 19)"
      ]
     },
     "execution_count": 6,
     "metadata": {},
     "output_type": "execute_result"
    }
   ],
   "source": [
    "df.shape"
   ]
  },
  {
   "cell_type": "markdown",
   "metadata": {},
   "source": [
    "## Data Cleaning"
   ]
  },
  {
   "cell_type": "code",
   "execution_count": 7,
   "metadata": {},
   "outputs": [
    {
     "data": {
      "text/plain": [
       "case_month                             0\n",
       "res_state                              0\n",
       "state_fips_code                        0\n",
       "res_county                          6821\n",
       "county_fips_code                    6821\n",
       "age_group                           1139\n",
       "sex                                 3023\n",
       "race                               17081\n",
       "ethnicity                          20462\n",
       "case_positive_specimen_interval    72726\n",
       "case_onset_interval                53913\n",
       "process                                0\n",
       "exposure_yn                            0\n",
       "current_status                         0\n",
       "symptom_status                         0\n",
       "hosp_yn                                0\n",
       "icu_yn                                 0\n",
       "death_yn                            4982\n",
       "underlying_conditions_yn           93322\n",
       "dtype: int64"
      ]
     },
     "execution_count": 7,
     "metadata": {},
     "output_type": "execute_result"
    }
   ],
   "source": [
    "df.isnull().sum()"
   ]
  },
  {
   "cell_type": "code",
   "execution_count": 8,
   "metadata": {},
   "outputs": [
    {
     "data": {
      "text/plain": [
       "case_month                          0.00\n",
       "res_state                           0.00\n",
       "state_fips_code                     0.00\n",
       "res_county                          6.82\n",
       "county_fips_code                    6.82\n",
       "age_group                           1.14\n",
       "sex                                 3.02\n",
       "race                               17.08\n",
       "ethnicity                          20.46\n",
       "case_positive_specimen_interval    72.73\n",
       "case_onset_interval                53.91\n",
       "process                             0.00\n",
       "exposure_yn                         0.00\n",
       "current_status                      0.00\n",
       "symptom_status                      0.00\n",
       "hosp_yn                             0.00\n",
       "icu_yn                              0.00\n",
       "death_yn                            4.98\n",
       "underlying_conditions_yn           93.32\n",
       "dtype: float64"
      ]
     },
     "execution_count": 8,
     "metadata": {},
     "output_type": "execute_result"
    }
   ],
   "source": [
    "round(df.isnull().mean() * 100, 2)"
   ]
  },
  {
   "cell_type": "code",
   "execution_count": null,
   "metadata": {},
   "outputs": [],
   "source": [
    "df.isnull().sum().plot(kind='barh');"
   ]
  },
  {
   "cell_type": "markdown",
   "metadata": {},
   "source": [
    "## Recode NAs "
   ]
  },
  {
   "cell_type": "markdown",
   "metadata": {},
   "source": [
    "### Recode NAs = 'Suppressed' where NA represent data suppressed for privacy protection"
   ]
  },
  {
   "cell_type": "code",
   "execution_count": 10,
   "metadata": {},
   "outputs": [],
   "source": [
    "df[['age_group', 'sex','race','ethnicity', 'death_yn']] = df[['age_group', 'sex','race','ethnicity', 'death_yn']].fillna('suppressed')"
   ]
  },
  {
   "cell_type": "code",
   "execution_count": 11,
   "metadata": {},
   "outputs": [
    {
     "data": {
      "text/html": [
       "<div>\n",
       "<style scoped>\n",
       "    .dataframe tbody tr th:only-of-type {\n",
       "        vertical-align: middle;\n",
       "    }\n",
       "\n",
       "    .dataframe tbody tr th {\n",
       "        vertical-align: top;\n",
       "    }\n",
       "\n",
       "    .dataframe thead th {\n",
       "        text-align: right;\n",
       "    }\n",
       "</style>\n",
       "<table border=\"1\" class=\"dataframe\">\n",
       "  <thead>\n",
       "    <tr style=\"text-align: right;\">\n",
       "      <th></th>\n",
       "      <th>case_month</th>\n",
       "      <th>res_state</th>\n",
       "      <th>state_fips_code</th>\n",
       "      <th>res_county</th>\n",
       "      <th>county_fips_code</th>\n",
       "      <th>age_group</th>\n",
       "      <th>sex</th>\n",
       "      <th>race</th>\n",
       "      <th>ethnicity</th>\n",
       "      <th>case_positive_specimen_interval</th>\n",
       "      <th>case_onset_interval</th>\n",
       "      <th>process</th>\n",
       "      <th>exposure_yn</th>\n",
       "      <th>current_status</th>\n",
       "      <th>symptom_status</th>\n",
       "      <th>hosp_yn</th>\n",
       "      <th>icu_yn</th>\n",
       "      <th>death_yn</th>\n",
       "      <th>underlying_conditions_yn</th>\n",
       "    </tr>\n",
       "  </thead>\n",
       "  <tbody>\n",
       "    <tr>\n",
       "      <th>0</th>\n",
       "      <td>2020-12</td>\n",
       "      <td>CA</td>\n",
       "      <td>6</td>\n",
       "      <td>LOS ANGELES</td>\n",
       "      <td>6037.0</td>\n",
       "      <td>18 to 49 years</td>\n",
       "      <td>Female</td>\n",
       "      <td>suppressed</td>\n",
       "      <td>suppressed</td>\n",
       "      <td>NaN</td>\n",
       "      <td>0.0</td>\n",
       "      <td>Missing</td>\n",
       "      <td>Missing</td>\n",
       "      <td>Laboratory-confirmed case</td>\n",
       "      <td>Symptomatic</td>\n",
       "      <td>Unknown</td>\n",
       "      <td>Missing</td>\n",
       "      <td>No</td>\n",
       "      <td>NaN</td>\n",
       "    </tr>\n",
       "    <tr>\n",
       "      <th>1</th>\n",
       "      <td>2020-12</td>\n",
       "      <td>OK</td>\n",
       "      <td>40</td>\n",
       "      <td>STEPHENS</td>\n",
       "      <td>40137.0</td>\n",
       "      <td>50 to 64 years</td>\n",
       "      <td>Male</td>\n",
       "      <td>Unknown</td>\n",
       "      <td>Unknown</td>\n",
       "      <td>NaN</td>\n",
       "      <td>NaN</td>\n",
       "      <td>Missing</td>\n",
       "      <td>Missing</td>\n",
       "      <td>Probable Case</td>\n",
       "      <td>Unknown</td>\n",
       "      <td>Unknown</td>\n",
       "      <td>Missing</td>\n",
       "      <td>suppressed</td>\n",
       "      <td>NaN</td>\n",
       "    </tr>\n",
       "    <tr>\n",
       "      <th>2</th>\n",
       "      <td>2021-02</td>\n",
       "      <td>PA</td>\n",
       "      <td>42</td>\n",
       "      <td>FRANKLIN</td>\n",
       "      <td>42055.0</td>\n",
       "      <td>50 to 64 years</td>\n",
       "      <td>Female</td>\n",
       "      <td>White</td>\n",
       "      <td>Non-Hispanic/Latino</td>\n",
       "      <td>0.0</td>\n",
       "      <td>NaN</td>\n",
       "      <td>Missing</td>\n",
       "      <td>Missing</td>\n",
       "      <td>Laboratory-confirmed case</td>\n",
       "      <td>Unknown</td>\n",
       "      <td>Unknown</td>\n",
       "      <td>Unknown</td>\n",
       "      <td>Unknown</td>\n",
       "      <td>NaN</td>\n",
       "    </tr>\n",
       "    <tr>\n",
       "      <th>3</th>\n",
       "      <td>2020-12</td>\n",
       "      <td>WA</td>\n",
       "      <td>53</td>\n",
       "      <td>YAKIMA</td>\n",
       "      <td>53077.0</td>\n",
       "      <td>18 to 49 years</td>\n",
       "      <td>Male</td>\n",
       "      <td>White</td>\n",
       "      <td>Hispanic/Latino</td>\n",
       "      <td>0.0</td>\n",
       "      <td>0.0</td>\n",
       "      <td>Missing</td>\n",
       "      <td>Missing</td>\n",
       "      <td>Laboratory-confirmed case</td>\n",
       "      <td>Symptomatic</td>\n",
       "      <td>No</td>\n",
       "      <td>Missing</td>\n",
       "      <td>Missing</td>\n",
       "      <td>NaN</td>\n",
       "    </tr>\n",
       "    <tr>\n",
       "      <th>4</th>\n",
       "      <td>2020-08</td>\n",
       "      <td>CA</td>\n",
       "      <td>6</td>\n",
       "      <td>SACRAMENTO</td>\n",
       "      <td>6067.0</td>\n",
       "      <td>18 to 49 years</td>\n",
       "      <td>Male</td>\n",
       "      <td>Unknown</td>\n",
       "      <td>Unknown</td>\n",
       "      <td>NaN</td>\n",
       "      <td>0.0</td>\n",
       "      <td>Missing</td>\n",
       "      <td>Missing</td>\n",
       "      <td>Laboratory-confirmed case</td>\n",
       "      <td>Symptomatic</td>\n",
       "      <td>Missing</td>\n",
       "      <td>Missing</td>\n",
       "      <td>No</td>\n",
       "      <td>NaN</td>\n",
       "    </tr>\n",
       "  </tbody>\n",
       "</table>\n",
       "</div>"
      ],
      "text/plain": [
       "  case_month res_state  state_fips_code   res_county  county_fips_code  \\\n",
       "0    2020-12        CA                6  LOS ANGELES            6037.0   \n",
       "1    2020-12        OK               40     STEPHENS           40137.0   \n",
       "2    2021-02        PA               42     FRANKLIN           42055.0   \n",
       "3    2020-12        WA               53       YAKIMA           53077.0   \n",
       "4    2020-08        CA                6   SACRAMENTO            6067.0   \n",
       "\n",
       "        age_group     sex        race            ethnicity  \\\n",
       "0  18 to 49 years  Female  suppressed           suppressed   \n",
       "1  50 to 64 years    Male     Unknown              Unknown   \n",
       "2  50 to 64 years  Female       White  Non-Hispanic/Latino   \n",
       "3  18 to 49 years    Male       White      Hispanic/Latino   \n",
       "4  18 to 49 years    Male     Unknown              Unknown   \n",
       "\n",
       "   case_positive_specimen_interval  case_onset_interval  process exposure_yn  \\\n",
       "0                              NaN                  0.0  Missing     Missing   \n",
       "1                              NaN                  NaN  Missing     Missing   \n",
       "2                              0.0                  NaN  Missing     Missing   \n",
       "3                              0.0                  0.0  Missing     Missing   \n",
       "4                              NaN                  0.0  Missing     Missing   \n",
       "\n",
       "              current_status symptom_status  hosp_yn   icu_yn    death_yn  \\\n",
       "0  Laboratory-confirmed case    Symptomatic  Unknown  Missing          No   \n",
       "1              Probable Case        Unknown  Unknown  Missing  suppressed   \n",
       "2  Laboratory-confirmed case        Unknown  Unknown  Unknown     Unknown   \n",
       "3  Laboratory-confirmed case    Symptomatic       No  Missing     Missing   \n",
       "4  Laboratory-confirmed case    Symptomatic  Missing  Missing          No   \n",
       "\n",
       "  underlying_conditions_yn  \n",
       "0                      NaN  \n",
       "1                      NaN  \n",
       "2                      NaN  \n",
       "3                      NaN  \n",
       "4                      NaN  "
      ]
     },
     "execution_count": 11,
     "metadata": {},
     "output_type": "execute_result"
    }
   ],
   "source": [
    "df.head(5)"
   ]
  },
  {
   "cell_type": "code",
   "execution_count": 49,
   "metadata": {},
   "outputs": [
    {
     "data": {
      "text/plain": [
       "2020-12-01    19100\n",
       "2021-01-01    15540\n",
       "2020-11-01    13641\n",
       "2020-10-01     6759\n",
       "2021-02-01     6415\n",
       "2021-03-01     6248\n",
       "2021-04-01     5932\n",
       "2020-07-01     5120\n",
       "2020-09-01     4026\n",
       "2020-08-01     3957\n",
       "2020-06-01     3257\n",
       "2020-04-01     2989\n",
       "2021-05-01     2851\n",
       "2020-05-01     2581\n",
       "2020-03-01     1396\n",
       "2021-06-01      162\n",
       "2020-02-01       14\n",
       "2020-01-01       12\n",
       "Name: case_month, dtype: int64"
      ]
     },
     "execution_count": 49,
     "metadata": {},
     "output_type": "execute_result"
    }
   ],
   "source": [
    "df['case_month'].value_counts()"
   ]
  },
  {
   "cell_type": "code",
   "execution_count": 12,
   "metadata": {},
   "outputs": [
    {
     "data": {
      "text/plain": [
       "18 to 49 years    53135\n",
       "50 to 64 years    19805\n",
       "65+ years         13013\n",
       "0 - 17 years      12270\n",
       "suppressed         1139\n",
       "Missing             638\n",
       "Name: age_group, dtype: int64"
      ]
     },
     "execution_count": 12,
     "metadata": {},
     "output_type": "execute_result"
    }
   ],
   "source": [
    "df['age_group'].value_counts()"
   ]
  },
  {
   "cell_type": "code",
   "execution_count": 48,
   "metadata": {},
   "outputs": [
    {
     "data": {
      "image/png": "[encoded data removed]",
      "text/plain": [
       "<Figure size 432x288 with 1 Axes>"
      ]
     },
     "metadata": {},
     "output_type": "display_data"
    }
   ],
   "source": [
    "df.age_group.value_counts().plot(kind='pie')\n",
    "plt.savefig('images/age_group.png');"
   ]
  },
  {
   "cell_type": "code",
   "execution_count": null,
   "metadata": {},
   "outputs": [],
   "source": [
    "df['feature importance'].plot(kind='bar');"
   ]
  },
  {
   "cell_type": "markdown",
   "metadata": {},
   "source": [
    "## Explore 'Case Intervals'"
   ]
  },
  {
   "cell_type": "markdown",
   "metadata": {},
   "source": [
    "### NAs and missing values "
   ]
  },
  {
   "cell_type": "code",
   "execution_count": 13,
   "metadata": {
    "scrolled": true
   },
   "outputs": [
    {
     "data": {
      "text/plain": [
       "case_onset_interval\n",
       " 51.0                      1\n",
       " 49.0                      3\n",
       " 47.0                      1\n",
       " 45.0                      1\n",
       " 44.0                      1\n",
       " 43.0                      1\n",
       " 41.0                      1\n",
       " 40.0                      2\n",
       " 39.0                      3\n",
       " 38.0                      4\n",
       " 37.0                      1\n",
       " 36.0                      2\n",
       " 34.0                      2\n",
       " 33.0                      2\n",
       " 32.0                      5\n",
       " 31.0                      4\n",
       " 30.0                      3\n",
       " 29.0                      4\n",
       " 28.0                      3\n",
       " 27.0                      4\n",
       " 26.0                      2\n",
       " 25.0                      5\n",
       " 24.0                      3\n",
       " 23.0                      9\n",
       " 22.0                     11\n",
       " 21.0                      9\n",
       " 20.0                     12\n",
       " 19.0                     15\n",
       " 18.0                      4\n",
       " 17.0                      6\n",
       " 16.0                      8\n",
       " 15.0                      6\n",
       " 14.0                     11\n",
       " 13.0                      3\n",
       " 12.0                      7\n",
       " 11.0                      9\n",
       " 10.0                      7\n",
       " 9.0                       8\n",
       " 8.0                       4\n",
       " 7.0                       6\n",
       " 6.0                      10\n",
       " 5.0                       9\n",
       " 4.0                      28\n",
       " 3.0                      24\n",
       " 2.0                      22\n",
       " 1.0                     113\n",
       " 0.0                   45684\n",
       "-1.0                       3\n",
       "-13.0                      1\n",
       "dtype: int64"
      ]
     },
     "execution_count": 13,
     "metadata": {},
     "output_type": "execute_result"
    }
   ],
   "source": [
    "# Weeks between earliest date and date of symptom onset (float)\n",
    "df[['case_onset_interval']].value_counts().sort_index(ascending=False)"
   ]
  },
  {
   "cell_type": "code",
   "execution_count": 14,
   "metadata": {},
   "outputs": [
    {
     "data": {
      "text/plain": [
       "case_positive_specimen_interval\n",
       "48.0                               1\n",
       "42.0                               1\n",
       "38.0                               4\n",
       "37.0                               1\n",
       "36.0                               2\n",
       "dtype: int64"
      ]
     },
     "execution_count": 14,
     "metadata": {},
     "output_type": "execute_result"
    }
   ],
   "source": [
    "# Weeks between earliest date and date of first positive specimen collection (float)\n",
    "df[['case_positive_specimen_interval']].value_counts().sort_index(ascending=False).head()"
   ]
  },
  {
   "cell_type": "code",
   "execution_count": 15,
   "metadata": {},
   "outputs": [
    {
     "data": {
      "text/plain": [
       "0        NaN\n",
       "1        NaN\n",
       "2        0.0\n",
       "3        0.0\n",
       "4        NaN\n",
       "        ... \n",
       "99995    0.0\n",
       "99996    NaN\n",
       "99997    NaN\n",
       "99998    1.0\n",
       "99999    NaN\n",
       "Name: case_positive_specimen_interval, Length: 100000, dtype: float64"
      ]
     },
     "execution_count": 15,
     "metadata": {},
     "output_type": "execute_result"
    }
   ],
   "source": [
    "# recoded <0 as missing\n",
    "df['case_positive_specimen_interval'] = np.where(df['case_positive_specimen_interval'] < 0, np.NAN, df['case_positive_specimen_interval'])\n",
    "df['case_positive_specimen_interval']"
   ]
  },
  {
   "cell_type": "code",
   "execution_count": 16,
   "metadata": {},
   "outputs": [
    {
     "data": {
      "text/plain": [
       "0        0.0\n",
       "1        NaN\n",
       "2        NaN\n",
       "3        0.0\n",
       "4        0.0\n",
       "        ... \n",
       "99995    NaN\n",
       "99996    NaN\n",
       "99997    NaN\n",
       "99998    0.0\n",
       "99999    NaN\n",
       "Name: case_onset_interval, Length: 100000, dtype: float64"
      ]
     },
     "execution_count": 16,
     "metadata": {},
     "output_type": "execute_result"
    }
   ],
   "source": [
    "# recoded <0 as missing\n",
    "df['case_onset_interval'] = np.where(df['case_onset_interval'] < 0, np.NAN, df['case_onset_interval'])\n",
    "df['case_onset_interval']"
   ]
  },
  {
   "cell_type": "markdown",
   "metadata": {},
   "source": [
    "### Impute mean for both missing (see below) and negative (see above) values? When filling NAs it for some reason goes to all missing data"
   ]
  },
  {
   "cell_type": "code",
   "execution_count": 17,
   "metadata": {},
   "outputs": [
    {
     "data": {
      "text/plain": [
       "case_onset_interval                53.9\n",
       "case_positive_specimen_interval    72.9\n",
       "dtype: float64"
      ]
     },
     "execution_count": 17,
     "metadata": {},
     "output_type": "execute_result"
    }
   ],
   "source": [
    "round(df[['case_onset_interval','case_positive_specimen_interval']].isnull().mean() * 100, 1)"
   ]
  },
  {
   "cell_type": "markdown",
   "metadata": {},
   "source": [
    "### Solution"
   ]
  },
  {
   "cell_type": "code",
   "execution_count": 19,
   "metadata": {},
   "outputs": [],
   "source": [
    "df['case_onset_interval'] = df['case_onset_interval'].fillna(df['case_onset_interval'].mean())\n",
    "df['case_positive_specimen_interval'] = df['case_positive_specimen_interval'].fillna(df['case_positive_specimen_interval'].mean())"
   ]
  },
  {
   "cell_type": "code",
   "execution_count": 21,
   "metadata": {},
   "outputs": [
    {
     "data": {
      "text/plain": [
       "case_onset_interval                 9.8\n",
       "case_positive_specimen_interval    29.4\n",
       "dtype: float64"
      ]
     },
     "execution_count": 21,
     "metadata": {},
     "output_type": "execute_result"
    }
   ],
   "source": [
    "round(df[['case_onset_interval','case_positive_specimen_interval']].mean() * 100, 1)"
   ]
  },
  {
   "cell_type": "code",
   "execution_count": 22,
   "metadata": {},
   "outputs": [
    {
     "data": {
      "text/plain": [
       "3.000000       80\n",
       "2.000000      365\n",
       "1.000000     2988\n",
       "0.294085    72865\n",
       "0.000000    23427\n",
       "Name: case_positive_specimen_interval, dtype: int64"
      ]
     },
     "execution_count": 22,
     "metadata": {},
     "output_type": "execute_result"
    }
   ],
   "source": [
    "df['case_positive_specimen_interval'].value_counts().sort_index(ascending=False).tail()"
   ]
  },
  {
   "cell_type": "code",
   "execution_count": 23,
   "metadata": {},
   "outputs": [
    {
     "data": {
      "text/plain": [
       "3.000000       24\n",
       "2.000000       22\n",
       "1.000000      113\n",
       "0.098388    53917\n",
       "0.000000    45684\n",
       "Name: case_onset_interval, dtype: int64"
      ]
     },
     "execution_count": 23,
     "metadata": {},
     "output_type": "execute_result"
    }
   ],
   "source": [
    "df['case_onset_interval'].value_counts().sort_index(ascending=False).tail()"
   ]
  },
  {
   "cell_type": "markdown",
   "metadata": {},
   "source": [
    "## Recode"
   ]
  },
  {
   "cell_type": "markdown",
   "metadata": {},
   "source": [
    "### Recode NAs for other qualitative variables where NA = missing"
   ]
  },
  {
   "cell_type": "code",
   "execution_count": 59,
   "metadata": {},
   "outputs": [],
   "source": [
    "df[[ 'case_month',\n",
    "    'res_state',\n",
    "    'res_county', \n",
    "    'age_group', \n",
    "    'sex', \n",
    "    'race', \n",
    "    'ethnicity', \n",
    "    'process', \n",
    "    'exposure_yn', \n",
    "    'current_status', \n",
    "    'symptom_status', \n",
    "    'hosp_yn', \n",
    "    'icu_yn', \n",
    "    'death_yn', \n",
    "    'underlying_conditions_yn']] = df[['case_month', \n",
    "                                       'res_state', \n",
    "                                       'res_county', \n",
    "                                       'age_group', \n",
    "                                       'sex', \n",
    "                                       'race', \n",
    "                                       'ethnicity', \n",
    "                                       'process', \n",
    "                                       'exposure_yn',\n",
    "                                       'current_status', \n",
    "                                       'symptom_status', \n",
    "                                       'hosp_yn', \n",
    "                                       'icu_yn', \n",
    "                                       'death_yn', \n",
    "                                       'underlying_conditions_yn']].fillna('Missing')"
   ]
  },
  {
   "cell_type": "code",
   "execution_count": 25,
   "metadata": {},
   "outputs": [
    {
     "data": {
      "text/plain": [
       "case_month                         0.0\n",
       "res_state                          0.0\n",
       "state_fips_code                    0.0\n",
       "res_county                         0.0\n",
       "county_fips_code                   0.0\n",
       "age_group                          0.0\n",
       "sex                                0.0\n",
       "race                               0.0\n",
       "ethnicity                          0.0\n",
       "case_positive_specimen_interval    0.0\n",
       "case_onset_interval                0.0\n",
       "process                            0.0\n",
       "exposure_yn                        0.0\n",
       "current_status                     0.0\n",
       "symptom_status                     0.0\n",
       "hosp_yn                            0.0\n",
       "icu_yn                             0.0\n",
       "death_yn                           0.0\n",
       "underlying_conditions_yn           0.0\n",
       "dtype: float64"
      ]
     },
     "execution_count": 25,
     "metadata": {},
     "output_type": "execute_result"
    }
   ],
   "source": [
    "round(df.isnull().mean() * 100, 1)"
   ]
  },
  {
   "cell_type": "code",
   "execution_count": 26,
   "metadata": {},
   "outputs": [
    {
     "data": {
      "text/plain": [
       "Missing                             94985\n",
       "Clinical evaluation                  2464\n",
       "Routine surveillance                  973\n",
       "Multiple                              623\n",
       "Contact tracing of case patient       383\n",
       "Laboratory reported                   354\n",
       "Unknown                               120\n",
       "Other                                  39\n",
       "Other detection method (specify)       33\n",
       "Provider reported                      26\n",
       "Name: process, dtype: int64"
      ]
     },
     "execution_count": 26,
     "metadata": {},
     "output_type": "execute_result"
    }
   ],
   "source": [
    "df['process'].value_counts()"
   ]
  },
  {
   "cell_type": "markdown",
   "metadata": {},
   "source": [
    "## Additional Cleaning"
   ]
  },
  {
   "cell_type": "code",
   "execution_count": 27,
   "metadata": {},
   "outputs": [
    {
     "name": "stdout",
     "output_type": "stream",
     "text": [
      "<class 'pandas.core.frame.DataFrame'>\n",
      "RangeIndex: 100000 entries, 0 to 99999\n",
      "Data columns (total 19 columns):\n",
      " #   Column                           Non-Null Count   Dtype  \n",
      "---  ------                           --------------   -----  \n",
      " 0   case_month                       100000 non-null  object \n",
      " 1   res_state                        100000 non-null  object \n",
      " 2   state_fips_code                  100000 non-null  int64  \n",
      " 3   res_county                       100000 non-null  object \n",
      " 4   county_fips_code                 100000 non-null  object \n",
      " 5   age_group                        100000 non-null  object \n",
      " 6   sex                              100000 non-null  object \n",
      " 7   race                             100000 non-null  object \n",
      " 8   ethnicity                        100000 non-null  object \n",
      " 9   case_positive_specimen_interval  100000 non-null  float64\n",
      " 10  case_onset_interval              100000 non-null  float64\n",
      " 11  process                          100000 non-null  object \n",
      " 12  exposure_yn                      100000 non-null  object \n",
      " 13  current_status                   100000 non-null  object \n",
      " 14  symptom_status                   100000 non-null  object \n",
      " 15  hosp_yn                          100000 non-null  object \n",
      " 16  icu_yn                           100000 non-null  object \n",
      " 17  death_yn                         100000 non-null  object \n",
      " 18  underlying_conditions_yn         100000 non-null  object \n",
      "dtypes: float64(2), int64(1), object(16)\n",
      "memory usage: 14.5+ MB\n"
     ]
    }
   ],
   "source": [
    "df.info()"
   ]
  },
  {
   "cell_type": "code",
   "execution_count": 28,
   "metadata": {},
   "outputs": [
    {
     "data": {
      "text/plain": [
       "2021-06      162\n",
       "2021-05     2851\n",
       "2021-04     5932\n",
       "2021-03     6248\n",
       "2021-02     6415\n",
       "2021-01    15540\n",
       "2020-12    19100\n",
       "2020-11    13641\n",
       "2020-10     6759\n",
       "2020-09     4026\n",
       "2020-08     3957\n",
       "2020-07     5120\n",
       "2020-06     3257\n",
       "2020-05     2581\n",
       "2020-04     2989\n",
       "2020-03     1396\n",
       "2020-02       14\n",
       "2020-01       12\n",
       "Name: case_month, dtype: int64"
      ]
     },
     "execution_count": 28,
     "metadata": {},
     "output_type": "execute_result"
    }
   ],
   "source": [
    "df['case_month'].value_counts().sort_index(ascending=False)"
   ]
  },
  {
   "cell_type": "code",
   "execution_count": 29,
   "metadata": {},
   "outputs": [
    {
     "data": {
      "text/plain": [
       "2021-06-01      162\n",
       "2021-05-01     2851\n",
       "2021-04-01     5932\n",
       "2021-03-01     6248\n",
       "2021-02-01     6415\n",
       "2021-01-01    15540\n",
       "2020-12-01    19100\n",
       "2020-11-01    13641\n",
       "2020-10-01     6759\n",
       "2020-09-01     4026\n",
       "2020-08-01     3957\n",
       "2020-07-01     5120\n",
       "2020-06-01     3257\n",
       "2020-05-01     2581\n",
       "2020-04-01     2989\n",
       "2020-03-01     1396\n",
       "2020-02-01       14\n",
       "2020-01-01       12\n",
       "Name: case_month, dtype: int64"
      ]
     },
     "execution_count": 29,
     "metadata": {},
     "output_type": "execute_result"
    }
   ],
   "source": [
    "df['case_month'] = pd.to_datetime(df['case_month'])\n",
    "df['case_month'].value_counts().sort_index(ascending=False)"
   ]
  },
  {
   "cell_type": "code",
   "execution_count": 30,
   "metadata": {},
   "outputs": [
    {
     "data": {
      "text/plain": [
       "No            47633\n",
       "Missing       35630\n",
       "Unknown       10789\n",
       "suppressed     4982\n",
       "Yes             966\n",
       "Name: death_yn, dtype: int64"
      ]
     },
     "execution_count": 30,
     "metadata": {},
     "output_type": "execute_result"
    }
   ],
   "source": [
    "df['death_yn'].value_counts()"
   ]
  },
  {
   "cell_type": "code",
   "execution_count": 31,
   "metadata": {},
   "outputs": [
    {
     "data": {
      "text/plain": [
       "0    99034\n",
       "1      966\n",
       "Name: death_yn, dtype: int64"
      ]
     },
     "execution_count": 31,
     "metadata": {},
     "output_type": "execute_result"
    }
   ],
   "source": [
    "df['death_yn'] = np.where(df['death_yn'] == 'Yes', 1, 0)\n",
    "df['death_yn'].value_counts()"
   ]
  },
  {
   "cell_type": "code",
   "execution_count": 32,
   "metadata": {},
   "outputs": [
    {
     "data": {
      "text/plain": [
       "Missing    93322\n",
       "Yes         6575\n",
       "No           103\n",
       "Name: underlying_conditions_yn, dtype: int64"
      ]
     },
     "execution_count": 32,
     "metadata": {},
     "output_type": "execute_result"
    }
   ],
   "source": [
    "df['underlying_conditions_yn'].value_counts()"
   ]
  },
  {
   "cell_type": "markdown",
   "metadata": {},
   "source": [
    "### Not Using"
   ]
  },
  {
   "cell_type": "code",
   "execution_count": 40,
   "metadata": {},
   "outputs": [],
   "source": [
    "df.drop(columns=['state_fips_code', 'county_fips_code'], inplace=True)"
   ]
  },
  {
   "cell_type": "markdown",
   "metadata": {},
   "source": [
    "## EDA"
   ]
  },
  {
   "cell_type": "markdown",
   "metadata": {},
   "source": [
    "- Correlation Check"
   ]
  },
  {
   "cell_type": "code",
   "execution_count": 41,
   "metadata": {},
   "outputs": [
    {
     "data": {
      "text/html": [
       "<div>\n",
       "<style scoped>\n",
       "    .dataframe tbody tr th:only-of-type {\n",
       "        vertical-align: middle;\n",
       "    }\n",
       "\n",
       "    .dataframe tbody tr th {\n",
       "        vertical-align: top;\n",
       "    }\n",
       "\n",
       "    .dataframe thead th {\n",
       "        text-align: right;\n",
       "    }\n",
       "</style>\n",
       "<table border=\"1\" class=\"dataframe\">\n",
       "  <thead>\n",
       "    <tr style=\"text-align: right;\">\n",
       "      <th></th>\n",
       "      <th>case_positive_specimen_interval</th>\n",
       "      <th>case_onset_interval</th>\n",
       "      <th>death_yn</th>\n",
       "    </tr>\n",
       "  </thead>\n",
       "  <tbody>\n",
       "    <tr>\n",
       "      <th>case_positive_specimen_interval</th>\n",
       "      <td>1.000000</td>\n",
       "      <td>0.006946</td>\n",
       "      <td>0.002798</td>\n",
       "    </tr>\n",
       "    <tr>\n",
       "      <th>case_onset_interval</th>\n",
       "      <td>0.006946</td>\n",
       "      <td>1.000000</td>\n",
       "      <td>-0.001386</td>\n",
       "    </tr>\n",
       "    <tr>\n",
       "      <th>death_yn</th>\n",
       "      <td>0.002798</td>\n",
       "      <td>-0.001386</td>\n",
       "      <td>1.000000</td>\n",
       "    </tr>\n",
       "  </tbody>\n",
       "</table>\n",
       "</div>"
      ],
      "text/plain": [
       "                                 case_positive_specimen_interval  \\\n",
       "case_positive_specimen_interval                         1.000000   \n",
       "case_onset_interval                                     0.006946   \n",
       "death_yn                                                0.002798   \n",
       "\n",
       "                                 case_onset_interval  death_yn  \n",
       "case_positive_specimen_interval             0.006946  0.002798  \n",
       "case_onset_interval                         1.000000 -0.001386  \n",
       "death_yn                                   -0.001386  1.000000  "
      ]
     },
     "execution_count": 41,
     "metadata": {},
     "output_type": "execute_result"
    }
   ],
   "source": [
    "df.corr()"
   ]
  },
  {
   "cell_type": "code",
   "execution_count": 42,
   "metadata": {},
   "outputs": [
    {
     "data": {
      "image/png": "[encoded data removed]",
      "text/plain": [
       "<Figure size 432x288 with 2 Axes>"
      ]
     },
     "metadata": {
      "needs_background": "light"
     },
     "output_type": "display_data"
    }
   ],
   "source": [
    "plt.figure(figsize=(6,4))\n",
    "sns.heatmap(df.corr(), annot=True);"
   ]
  },
  {
   "cell_type": "markdown",
   "metadata": {},
   "source": [
    "## Clean CSV"
   ]
  },
  {
   "cell_type": "code",
   "execution_count": 35,
   "metadata": {},
   "outputs": [
    {
     "name": "stdout",
     "output_type": "stream",
     "text": [
      "<class 'pandas.core.frame.DataFrame'>\n",
      "RangeIndex: 100000 entries, 0 to 99999\n",
      "Data columns (total 19 columns):\n",
      " #   Column                           Non-Null Count   Dtype         \n",
      "---  ------                           --------------   -----         \n",
      " 0   case_month                       100000 non-null  datetime64[ns]\n",
      " 1   res_state                        100000 non-null  object        \n",
      " 2   state_fips_code                  100000 non-null  int64         \n",
      " 3   res_county                       100000 non-null  object        \n",
      " 4   county_fips_code                 100000 non-null  object        \n",
      " 5   age_group                        100000 non-null  object        \n",
      " 6   sex                              100000 non-null  object        \n",
      " 7   race                             100000 non-null  object        \n",
      " 8   ethnicity                        100000 non-null  object        \n",
      " 9   case_positive_specimen_interval  100000 non-null  float64       \n",
      " 10  case_onset_interval              100000 non-null  float64       \n",
      " 11  process                          100000 non-null  object        \n",
      " 12  exposure_yn                      100000 non-null  object        \n",
      " 13  current_status                   100000 non-null  object        \n",
      " 14  symptom_status                   100000 non-null  object        \n",
      " 15  hosp_yn                          100000 non-null  object        \n",
      " 16  icu_yn                           100000 non-null  object        \n",
      " 17  death_yn                         100000 non-null  int64         \n",
      " 18  underlying_conditions_yn         100000 non-null  object        \n",
      "dtypes: datetime64[ns](1), float64(2), int64(2), object(14)\n",
      "memory usage: 14.5+ MB\n"
     ]
    }
   ],
   "source": [
    "df.info()"
   ]
  },
  {
   "cell_type": "code",
   "execution_count": 36,
   "metadata": {},
   "outputs": [],
   "source": [
    "df.to_csv('datasets/clean_subset.csv', index=False)"
   ]
  }
 ],
 "metadata": {
  "kernelspec": {
   "display_name": "Python 3",
   "language": "python",
   "name": "python3"
  },
  "language_info": {
   "codemirror_mode": {
    "name": "ipython",
    "version": 3
   },
   "file_extension": ".py",
   "mimetype": "text/x-python",
   "name": "python",
   "nbconvert_exporter": "python",
   "pygments_lexer": "ipython3",
   "version": "3.8.5"
  }
 },
 "nbformat": 4,
 "nbformat_minor": 4
}
